{
  "nbformat": 4,
  "nbformat_minor": 0,
  "metadata": {
    "colab": {
      "name": "Untitled13.ipynb",
      "provenance": [],
      "authorship_tag": "ABX9TyMqCuPBfJCXed26gH8/x/RB",
      "include_colab_link": true
    },
    "kernelspec": {
      "name": "python3",
      "display_name": "Python 3"
    }
  },
  "cells": [
    {
      "cell_type": "markdown",
      "metadata": {
        "id": "view-in-github",
        "colab_type": "text"
      },
      "source": [
        "<a href=\"https://colab.research.google.com/github/Nwosu-Ihueze/first_deploy/blob/main/base_model.ipynb\" target=\"_parent\"><img src=\"https://colab.research.google.com/assets/colab-badge.svg\" alt=\"Open In Colab\"/></a>"
      ]
    },
    {
      "cell_type": "code",
      "metadata": {
        "colab": {
          "base_uri": "https://localhost:8080/"
        },
        "id": "QrqqhGb-hJN9",
        "outputId": "30625e10-7d57-4647-96f5-5a157335916b"
      },
      "source": [
        "from google.colab import drive\n",
        "drive.mount(\"/content/drive\")"
      ],
      "execution_count": 2,
      "outputs": [
        {
          "output_type": "stream",
          "text": [
            "Mounted at /content/drive\n"
          ],
          "name": "stdout"
        }
      ]
    },
    {
      "cell_type": "code",
      "metadata": {
        "id": "to73YXqkhYZf"
      },
      "source": [
        "img_dir = ('/content/drive/MyDrive/image_classifier/dataset')"
      ],
      "execution_count": 3,
      "outputs": []
    },
    {
      "cell_type": "code",
      "metadata": {
        "id": "-jroOgAVhZyx"
      },
      "source": [
        "from keras.models import Sequential\n",
        "from keras.layers import Dense, Conv2D, MaxPool2D , Flatten\n",
        "from keras.preprocessing.image import ImageDataGenerator\n",
        "import keras\n",
        "import numpy as np\n",
        "import tensorflow as tf\n",
        "from tensorflow import keras\n",
        "from tensorflow.keras import layers\n",
        "import tensorflow_hub as hub\n",
        "import matplotlib.pyplot as plt"
      ],
      "execution_count": 4,
      "outputs": []
    },
    {
      "cell_type": "code",
      "metadata": {
        "id": "FVhNyMrLhkwD"
      },
      "source": [
        "data_args = dict(rescale=1./255, validation_split=.20)"
      ],
      "execution_count": 5,
      "outputs": []
    },
    {
      "cell_type": "code",
      "metadata": {
        "colab": {
          "base_uri": "https://localhost:8080/"
        },
        "id": "Ev--vHf3ho_5",
        "outputId": "2465cdfe-6e6e-42f9-afc1-9344e5985306"
      },
      "source": [
        "bag_train = tf.keras.preprocessing.image.ImageDataGenerator(**data_args)\n",
        "\n",
        "train_gen = bag_train.flow_from_directory(\n",
        "img_dir,\n",
        "subset=\"training\",\n",
        "shuffle=True,\n",
        "target_size=(224, 224))\n",
        "\n",
        "\n",
        "bag_val = tf.keras.preprocessing.image.ImageDataGenerator(**data_args)\n",
        "\n",
        "val_gen = bag_val.flow_from_directory(\n",
        "img_dir,\n",
        "subset=\"validation\",\n",
        "shuffle=True,\n",
        "target_size=(224, 224))"
      ],
      "execution_count": 6,
      "outputs": [
        {
          "output_type": "stream",
          "text": [
            "Found 1600 images belonging to 5 classes.\n",
            "Found 400 images belonging to 5 classes.\n"
          ],
          "name": "stdout"
        }
      ]
    },
    {
      "cell_type": "code",
      "metadata": {
        "id": "5AIK2H4thssQ"
      },
      "source": [
        "for image_batch, label_batch in train_gen:\n",
        "  break\n",
        "  image_batch.shape, label_batch.shape"
      ],
      "execution_count": 7,
      "outputs": []
    },
    {
      "cell_type": "code",
      "metadata": {
        "colab": {
          "base_uri": "https://localhost:8080/"
        },
        "id": "8rF-sJNxhw0p",
        "outputId": "9873bb89-185f-429f-a8ba-dcbc097d6e95"
      },
      "source": [
        "print (train_gen.class_indices)"
      ],
      "execution_count": 8,
      "outputs": [
        {
          "output_type": "stream",
          "text": [
            "{'Backpack': 0, 'Briefcase': 1, 'Duffle': 2, 'Handbag': 3, 'Purse': 4}\n"
          ],
          "name": "stdout"
        }
      ]
    },
    {
      "cell_type": "code",
      "metadata": {
        "colab": {
          "base_uri": "https://localhost:8080/"
        },
        "id": "NFX_UXHOhzqT",
        "outputId": "62b76f1f-d1ac-4754-e612-1191e124374a"
      },
      "source": [
        "base_model = tf.keras.Sequential([\n",
        " hub.KerasLayer(\"https://tfhub.dev/google/tf2-preview/mobilenet_v2/feature_vector/4\", \n",
        " output_shape=[1280],\n",
        " trainable=False),\n",
        " tf.keras.layers.Dropout(0.4),\n",
        " tf.keras.layers.Dense(train_gen.num_classes, activation='softmax')\n",
        "])\n",
        "base_model.build([None, 224, 224, 3])\n",
        "base_model.summary()"
      ],
      "execution_count": 9,
      "outputs": [
        {
          "output_type": "stream",
          "text": [
            "Model: \"sequential\"\n",
            "_________________________________________________________________\n",
            "Layer (type)                 Output Shape              Param #   \n",
            "=================================================================\n",
            "keras_layer (KerasLayer)     (None, 1280)              2257984   \n",
            "_________________________________________________________________\n",
            "dropout (Dropout)            (None, 1280)              0         \n",
            "_________________________________________________________________\n",
            "dense (Dense)                (None, 5)                 6405      \n",
            "=================================================================\n",
            "Total params: 2,264,389\n",
            "Trainable params: 6,405\n",
            "Non-trainable params: 2,257,984\n",
            "_________________________________________________________________\n"
          ],
          "name": "stdout"
        }
      ]
    },
    {
      "cell_type": "code",
      "metadata": {
        "id": "M13ITqx0h_IG"
      },
      "source": [
        "optimizer = tf.keras.optimizers.Adam(lr=0.001)\n",
        "\n",
        "base_model.compile(\n",
        " optimizer=optimizer,\n",
        " loss= 'categorical_crossentropy',\n",
        " metrics=['accuracy'])"
      ],
      "execution_count": 10,
      "outputs": []
    },
    {
      "cell_type": "code",
      "metadata": {
        "colab": {
          "base_uri": "https://localhost:8080/"
        },
        "id": "s9EhqPWViCZ0",
        "outputId": "12d672e7-6080-41e6-9586-0f8b91558987"
      },
      "source": [
        "epochs=10\n",
        "history = base_model.fit(\n",
        "  train_gen,\n",
        "  validation_data = val_gen,\n",
        "  epochs = epochs\n",
        ")"
      ],
      "execution_count": 11,
      "outputs": [
        {
          "output_type": "stream",
          "text": [
            "Epoch 1/10\n",
            "50/50 [==============================] - 732s 15s/step - loss: 1.5411 - accuracy: 0.3920 - val_loss: 0.6557 - val_accuracy: 0.7775\n",
            "Epoch 2/10\n",
            "50/50 [==============================] - 69s 1s/step - loss: 0.7380 - accuracy: 0.7325 - val_loss: 0.5476 - val_accuracy: 0.8100\n",
            "Epoch 3/10\n",
            "50/50 [==============================] - 69s 1s/step - loss: 0.6234 - accuracy: 0.7631 - val_loss: 0.5097 - val_accuracy: 0.8250\n",
            "Epoch 4/10\n",
            "50/50 [==============================] - 68s 1s/step - loss: 0.5016 - accuracy: 0.8327 - val_loss: 0.5041 - val_accuracy: 0.8150\n",
            "Epoch 5/10\n",
            "50/50 [==============================] - 67s 1s/step - loss: 0.4623 - accuracy: 0.8423 - val_loss: 0.4924 - val_accuracy: 0.8250\n",
            "Epoch 6/10\n",
            "50/50 [==============================] - 68s 1s/step - loss: 0.4332 - accuracy: 0.8603 - val_loss: 0.4736 - val_accuracy: 0.8350\n",
            "Epoch 7/10\n",
            "50/50 [==============================] - 68s 1s/step - loss: 0.3782 - accuracy: 0.8713 - val_loss: 0.4733 - val_accuracy: 0.8325\n",
            "Epoch 8/10\n",
            "50/50 [==============================] - 68s 1s/step - loss: 0.3946 - accuracy: 0.8596 - val_loss: 0.4685 - val_accuracy: 0.8300\n",
            "Epoch 9/10\n",
            "50/50 [==============================] - 68s 1s/step - loss: 0.3697 - accuracy: 0.8711 - val_loss: 0.4657 - val_accuracy: 0.8425\n",
            "Epoch 10/10\n",
            "50/50 [==============================] - 68s 1s/step - loss: 0.3506 - accuracy: 0.8782 - val_loss: 0.4566 - val_accuracy: 0.8375\n"
          ],
          "name": "stdout"
        }
      ]
    },
    {
      "cell_type": "code",
      "metadata": {
        "colab": {
          "base_uri": "https://localhost:8080/",
          "height": 499
        },
        "id": "ei9jy736nVEZ",
        "outputId": "80633711-cfc6-4d06-b709-383f4e3e045c"
      },
      "source": [
        "acc = history.history['accuracy']\n",
        "val_acc = history.history['val_accuracy']\n",
        "\n",
        "loss = history.history['loss']\n",
        "val_loss = history.history['val_loss']\n",
        "\n",
        "epochs_range = range(epochs)\n",
        "\n",
        "plt.figure(figsize=(8, 8))\n",
        "plt.subplot(1, 2, 1)\n",
        "plt.plot(epochs_range, acc, label='Training Accuracy')\n",
        "plt.plot(epochs_range, val_acc, label='Validation Accuracy')\n",
        "plt.legend(loc='lower right')\n",
        "plt.title('Training and Validation Accuracy')\n",
        "\n",
        "plt.subplot(1, 2, 2)\n",
        "plt.plot(epochs_range, loss, label='Training Loss')\n",
        "plt.plot(epochs_range, val_loss, label='Validation Loss')\n",
        "plt.legend(loc='upper right')\n",
        "plt.title('Training and Validation Loss')\n",
        "plt.show()"
      ],
      "execution_count": 12,
      "outputs": [
        {
          "output_type": "display_data",
          "data": {
            "image/png": "[encoded data removed]",
            "text/plain": [
              "<Figure size 576x576 with 2 Axes>"
            ]
          },
          "metadata": {
            "tags": [],
            "needs_background": "light"
          }
        }
      ]
    },
    {
      "cell_type": "code",
      "metadata": {
        "colab": {
          "base_uri": "https://localhost:8080/"
        },
        "id": "zwD2vv_onsut",
        "outputId": "eb2bbc69-aa5e-464d-c4d5-7aca9a83be55"
      },
      "source": [
        "import pickle\n",
        "from sklearn.externals import joblib "
      ],
      "execution_count": 19,
      "outputs": [
        {
          "output_type": "stream",
          "text": [
            "/usr/local/lib/python3.7/dist-packages/sklearn/externals/joblib/__init__.py:15: FutureWarning: sklearn.externals.joblib is deprecated in 0.21 and will be removed in 0.23. Please import this functionality directly from joblib, which can be installed with: pip install joblib. If this warning is raised when loading pickled models, you may need to re-serialize those models with scikit-learn 0.21+.\n",
            "  warnings.warn(msg, category=FutureWarning)\n"
          ],
          "name": "stderr"
        }
      ]
    },
    {
      "cell_type": "code",
      "metadata": {
        "id": "4eGgLZFEnt03"
      },
      "source": [
        "file_dir = '/content/drive/MyDrive/image_classifier/base_dir.h5'\n",
        "base_model.save(file_dir)"
      ],
      "execution_count": 23,
      "outputs": []
    }
  ]
}